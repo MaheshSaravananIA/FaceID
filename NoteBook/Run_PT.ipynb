{
 "cells": [
  {
   "cell_type": "code",
   "execution_count": 1,
   "metadata": {},
   "outputs": [
    {
     "name": "stderr",
     "output_type": "stream",
     "text": [
      "c:\\Users\\Dell\\miniconda3\\envs\\facerec\\Lib\\site-packages\\tqdm\\auto.py:21: TqdmWarning: IProgress not found. Please update jupyter and ipywidgets. See https://ipywidgets.readthedocs.io/en/stable/user_install.html\n",
      "  from .autonotebook import tqdm as notebook_tqdm\n"
     ]
    }
   ],
   "source": [
    "import sys\n",
    "import os\n",
    "sys.path.append(os.path.abspath(os.path.join(os.getcwd(), \"..\", \"Scripts\")))\n",
    "from config import Config\n",
    "import cv2\n",
    "import torch\n",
    "import torch.nn.functional as F\n",
    "from facenet_pytorch import MTCNN, InceptionResnetV1\n",
    "from PIL import Image\n",
    "import numpy as np\n",
    "import time\n",
    "import pickle\n",
    "Load_DB = False\n"
   ]
  },
  {
   "cell_type": "code",
   "execution_count": 2,
   "metadata": {},
   "outputs": [],
   "source": [
    "config = Config()\n",
    "\n",
    "vectorDB = dict()\n",
    "if Load_DB:\n",
    "    with open('./vectorDb.pkl','rb') as f:vectorDB =  pickle.load(f)\n",
    "\n",
    "mtcnn = MTCNN(image_size=160, margin=20, device=config.device)\n",
    "resnet = InceptionResnetV1(pretrained='vggface2').eval().to(config.device)"
   ]
  },
  {
   "cell_type": "code",
   "execution_count": 3,
   "metadata": {},
   "outputs": [],
   "source": [
    "def make_entry (vectorDB,mtcnn,resnet,device=config.device): \n",
    "    id_ = input(\"Enter your ID\")\n",
    "\n",
    "    a = {id_: {\n",
    "                \"id_vectors\": []\n",
    "                }\n",
    "            }\n",
    "    \n",
    "    print(\"Recording...\") \n",
    "    a[id_][\"id_vectors\"] =  get_vector(mtcnn,resnet,device)\n",
    "    print(f\"Samples---{len(a[id_][\"id_vectors\"] )} running on {device}\")\n",
    "    vectorDB.update(a)\n",
    "\n",
    "\n",
    "def get_vector(mtcnn,resnet,device):\n",
    "    vectors = []\n",
    "    cap = cv2.VideoCapture(0)\n",
    "\n",
    "    n_samples = 50\n",
    "\n",
    "    while True:\n",
    "        ret, frame = cap.read()\n",
    "        if not ret:\n",
    "            print(\"Failed to grab frame\")\n",
    "            break\n",
    "\n",
    "        percentage = (len(vectors)/n_samples)*100\n",
    "        cv2.putText(frame, f\"Recording: {int(percentage)}%\", (10, frame.shape[0] - 10),cv2.FONT_HERSHEY_SIMPLEX, 0.7, (0, 255, 255), 2)\n",
    "        \n",
    "        frame_rgb = cv2.cvtColor(frame, cv2.COLOR_BGR2RGB)\n",
    "        img = Image.fromarray(frame_rgb)\n",
    "        face_tensor = mtcnn(img)\n",
    "\n",
    "        \n",
    "        boxes, _ = mtcnn.detect(img)\n",
    "        if boxes is not None:\n",
    "            for box in boxes:\n",
    "                box = [int(b) for b in box]\n",
    "                cv2.rectangle(frame, (box[0], box[1]), (box[2], box[3]), (0, 255, 0), 2)\n",
    "\n",
    "        \n",
    "        if face_tensor is not None:\n",
    "            face_tensor = face_tensor.unsqueeze(0).to(device)\n",
    "            with torch.no_grad():\n",
    "                embedding = resnet(face_tensor)\n",
    "            \n",
    "            embedding_np = embedding.cpu().numpy().flatten()\n",
    "\n",
    "            cv2.putText(frame, f\"Recording data...\", (10, 30),\n",
    "                        cv2.FONT_HERSHEY_SIMPLEX, 0.7, (255, 0, 0), 2)\n",
    "            vectors.append(embedding_np)\n",
    "        if mtcnn(img) is None:\n",
    "            cv2.putText(frame, \"No face detected\", (10, 30),cv2.FONT_HERSHEY_SIMPLEX, 0.7, (0, 0, 255), 2)\n",
    "        cv2.imshow('Live Face Authentication', frame)\n",
    "        \n",
    "        \n",
    "        if percentage >= 98 or cv2.waitKey(1) & 0xFF == ord('q'):\n",
    "            break\n",
    "\n",
    "    cap.release()\n",
    "    cv2.destroyAllWindows()\n",
    "    return torch.tensor(np.array(vectors))\n",
    "        \n",
    "def cal_cosine(source_vec, target_vec):\n",
    "    cosine_sim = F.cosine_similarity(source_vec, target_vec, dim=1)\n",
    "    return torch.mean(cosine_sim)\n",
    "\n",
    "def search_DB(ref = None):\n",
    "    matched = dict()\n",
    "    for k in vectorDB.keys():\n",
    "        target = vectorDB[k][\"id_vectors\"]\n",
    "        sim = cal_cosine(torch.tensor(ref), target.clone().detach()).item()\n",
    "        matched.update({k:sim})\n",
    "    id_ = max(matched, key=matched.get)\n",
    "    val = matched[k]\n",
    "\n",
    "    return id_,val  \n",
    "        \n",
    "def test():    \n",
    "    cap = cv2.VideoCapture(0)\n",
    "    while True:\n",
    "        ret, frame = cap.read()\n",
    "        if not ret:\n",
    "            print(\"Failed to grab frame\")\n",
    "            break\n",
    "        \n",
    "        frame_rgb = cv2.cvtColor(frame, cv2.COLOR_BGR2RGB)\n",
    "        img = Image.fromarray(frame_rgb)\n",
    "        face_tensor = mtcnn(img)\n",
    "        if face_tensor is not None:\n",
    "            face_tensor = face_tensor.unsqueeze(0).to(config.device)\n",
    "            with torch.no_grad():\n",
    "                embedding = resnet(face_tensor)\n",
    "        \n",
    "            embedding_np = embedding.cpu().detach().flatten()\n",
    "            id_,val = search_DB(embedding_np)\n",
    "            \n",
    "            if val>0.15:text = f\"Hello {id_}... Confidence: {val:.2f}\"\n",
    "            else: text = \"Who are You?\"\n",
    "            \n",
    "            cv2.putText(frame, text, (10, 30),cv2.FONT_HERSHEY_SIMPLEX, 0.7, (255, 0, 0), 2)\n",
    "\n",
    "        \n",
    "        cv2.imshow(\"Webcam Feed\", frame)\n",
    "        \n",
    "        if cv2.waitKey(1) & 0xFF == ord('q'):\n",
    "            break\n",
    "\n",
    "    cap.release()\n",
    "    cv2.destroyAllWindows()"
   ]
  },
  {
   "cell_type": "code",
   "execution_count": 6,
   "metadata": {},
   "outputs": [
    {
     "name": "stdout",
     "output_type": "stream",
     "text": [
      "Recording...\n",
      "Samples---50 running on cuda\n"
     ]
    }
   ],
   "source": [
    "make_entry (vectorDB,mtcnn,resnet)"
   ]
  },
  {
   "cell_type": "code",
   "execution_count": null,
   "metadata": {},
   "outputs": [],
   "source": [
    "vectorDB.keys()"
   ]
  },
  {
   "cell_type": "code",
   "execution_count": 8,
   "metadata": {},
   "outputs": [
    {
     "name": "stderr",
     "output_type": "stream",
     "text": [
      "C:\\Users\\DELL\\AppData\\Local\\Temp\\ipykernel_13888\\3117899745.py:72: UserWarning: To copy construct from a tensor, it is recommended to use sourceTensor.clone().detach() or sourceTensor.clone().detach().requires_grad_(True), rather than torch.tensor(sourceTensor).\n",
      "  sim = cal_cosine(torch.tensor(ref), target.clone().detach()).item()\n"
     ]
    }
   ],
   "source": [
    "test()"
   ]
  },
  {
   "cell_type": "code",
   "execution_count": null,
   "metadata": {},
   "outputs": [],
   "source": []
  }
 ],
 "metadata": {
  "kernelspec": {
   "display_name": "facerec",
   "language": "python",
   "name": "python3"
  },
  "language_info": {
   "codemirror_mode": {
    "name": "ipython",
    "version": 3
   },
   "file_extension": ".py",
   "mimetype": "text/x-python",
   "name": "python",
   "nbconvert_exporter": "python",
   "pygments_lexer": "ipython3",
   "version": "3.12.3"
  }
 },
 "nbformat": 4,
 "nbformat_minor": 2
}
