{
 "cells": [
  {
   "cell_type": "code",
   "execution_count": null,
   "metadata": {},
   "outputs": [
    {
     "name": "stderr",
     "output_type": "stream",
     "text": [
      "c:\\Users\\Dell\\miniconda3\\envs\\facerec\\Lib\\site-packages\\tqdm\\auto.py:21: TqdmWarning: IProgress not found. Please update jupyter and ipywidgets. See https://ipywidgets.readthedocs.io/en/stable/user_install.html\n",
      "  from .autonotebook import tqdm as notebook_tqdm\n"
     ]
    }
   ],
   "source": [
    "import sys\n",
    "import os\n",
    "sys.path.append(os.path.abspath(os.path.join(os.getcwd(), \"..\", \"Scripts\")))\n",
    "\n",
    "import cv2\n",
    "import torch\n",
    "from PIL import Image\n",
    "import numpy as np\n",
    "import time\n",
    "import matplotlib.pyplot as plt\n",
    "from PIL import Image\n",
    "\n",
    "import torch.nn.functional as F\n",
    "from facenet_pytorch import MTCNN, InceptionResnetV1\n",
    "from torchvision import transforms\n",
    "\n",
    "from config import Config\n",
    "from models import AutoEncoder\n",
    "from utils import load_model\n",
    "from dataset import get_dataloaders"
   ]
  },
  {
   "cell_type": "code",
   "execution_count": 4,
   "metadata": {},
   "outputs": [],
   "source": [
    "config = Config()\n",
    "vectorDB = dict()\n",
    "\n",
    "model = AutoEncoder(config.latent_dim, config.image_size).to(config.device)\n",
    "model.encoder.load_state_dict(torch.load(config.Encoder_path))\n",
    "model.decoder.load_state_dict(torch.load(config.Decoder_path))\n",
    "\n",
    "transform = transforms.Compose([\n",
    "        transforms.Resize((config.image_size, config.image_size)),\n",
    "        transforms.ToTensor(),\n",
    "        transforms.Normalize(mean=[0.5, 0.5, 0.5], std=[0.5, 0.5, 0.5])\n",
    "    ])"
   ]
  },
  {
   "cell_type": "code",
   "execution_count": 14,
   "metadata": {},
   "outputs": [],
   "source": [
    "def make_entry (): \n",
    "    id_ = input(\"Enter your ID\")\n",
    "\n",
    "    a = {id_: {\n",
    "                \"id_vectors\": []\n",
    "                }\n",
    "            }\n",
    "    \n",
    "    print(\"Recording...\") \n",
    "    a[id_][\"id_vectors\"] =  get_vector()\n",
    "    print(f\"Samples---{len(a[id_][\"id_vectors\"] )} running on {config.device}\")\n",
    "    return a\n",
    "\n",
    "def get_vector():\n",
    "\n",
    "    vectors = []\n",
    "    cap = cv2.VideoCapture(0)\n",
    "\n",
    "    n_samples = 50\n",
    "\n",
    "    while True:\n",
    "        ret, frame = cap.read()\n",
    "        if not ret:\n",
    "            print(\"Failed to grab frame\")\n",
    "            break\n",
    "        \n",
    "        percentage = (len(vectors)/n_samples)*100\n",
    "        \n",
    "        cv2.putText(frame, f\"Recording: {int(percentage)}%\", (10, frame.shape[0] - 10),cv2.FONT_HERSHEY_SIMPLEX, 0.7, (0, 255, 255), 2)\n",
    "        frame_rgb = cv2.cvtColor(frame, cv2.COLOR_BGR2RGB)\n",
    "        \n",
    "\n",
    "        image = transform(Image.fromarray(frame_rgb)).unsqueeze(0).to(config.device)\n",
    "        lat = model.encoder(image)\n",
    "        embedding_np =  lat[0].detach().cpu().numpy()\n",
    "\n",
    "        cv2.putText(frame, f\"Recording data...\", (10, 30),cv2.FONT_HERSHEY_SIMPLEX, 0.7, (255, 0, 0), 2)\n",
    "        vectors.append(embedding_np)\n",
    "        cv2.imshow('Live Face Authentication', frame)\n",
    "        \n",
    "        if percentage >= 98 or cv2.waitKey(1) & 0xFF == ord('q'):\n",
    "            break\n",
    "\n",
    "    cap.release()\n",
    "    cv2.destroyAllWindows()\n",
    "    return torch.tensor(np.array(vectors))  \n",
    "\n",
    "def test():\n",
    "    cap = cv2.VideoCapture(0)\n",
    "    while True:\n",
    "        ret, frame = cap.read()\n",
    "        if not ret:\n",
    "            print(\"Failed to grab frame\")\n",
    "            break\n",
    "        frame_rgb = cv2.cvtColor(frame, cv2.COLOR_BGR2RGB)\n",
    "        img = Image.fromarray(frame_rgb)\n",
    "        \n",
    "        frame_rgb = cv2.cvtColor(frame, cv2.COLOR_BGR2RGB)\n",
    "        image = transform(Image.fromarray(frame_rgb)).unsqueeze(0).to(config.device)\n",
    "        with torch.no_grad():\n",
    "            lat = model.encoder(image)\n",
    "        embedding_np =  lat[0].detach().cpu().numpy()\n",
    "            \n",
    "        id_,val = search_DB(embedding_np)\n",
    "        if val>0.:text = f\"Hello {id_}---- Confidence: {val:.2f}\"\n",
    "        else:text = \"Who are you?\"\n",
    "        cv2.putText(frame, text, (10, 30),cv2.FONT_HERSHEY_SIMPLEX, 0.7, (255, 0, 0), 2)\n",
    "        cv2.imshow(\"Webcam Feed\", frame)\n",
    "\n",
    "        \n",
    "        if cv2.waitKey(1) & 0xFF == ord('q'):\n",
    "            break\n",
    "\n",
    "    cap.release()\n",
    "    cv2.destroyAllWindows()\n",
    "\n",
    "def cal_cosine(source_vec, target_vec):\n",
    "    cosine_sim = F.cosine_similarity(source_vec, target_vec, dim=1)\n",
    "    return torch.mean(cosine_sim)\n",
    "\n",
    "def search_DB(ref = None):\n",
    "    matched = dict()\n",
    "    for k in vectorDB.keys():\n",
    "        target = vectorDB[k][\"id_vectors\"]\n",
    "        sim = cal_cosine(torch.tensor(ref), target.clone().detach()).item()\n",
    "        matched.update({k:sim})\n",
    "    id_ = max(matched, key=matched.get)\n",
    "    val = matched[k]\n",
    "\n",
    "    return id_,val\n",
    "        "
   ]
  },
  {
   "cell_type": "code",
   "execution_count": 9,
   "metadata": {},
   "outputs": [
    {
     "name": "stdout",
     "output_type": "stream",
     "text": [
      "Recording...\n",
      "Samples---50 running on cuda\n"
     ]
    }
   ],
   "source": [
    "a = make_entry ()\n",
    "vectorDB.update(a)"
   ]
  },
  {
   "cell_type": "code",
   "execution_count": 10,
   "metadata": {},
   "outputs": [
    {
     "data": {
      "text/plain": [
       "dict_keys(['Mahesh', 'mahesh', 'Maryna', 'maryna'])"
      ]
     },
     "execution_count": 10,
     "metadata": {},
     "output_type": "execute_result"
    }
   ],
   "source": [
    "vectorDB.keys()"
   ]
  },
  {
   "cell_type": "code",
   "execution_count": 15,
   "metadata": {},
   "outputs": [],
   "source": [
    "test()"
   ]
  }
 ],
 "metadata": {
  "kernelspec": {
   "display_name": "facerec",
   "language": "python",
   "name": "python3"
  },
  "language_info": {
   "codemirror_mode": {
    "name": "ipython",
    "version": 3
   },
   "file_extension": ".py",
   "mimetype": "text/x-python",
   "name": "python",
   "nbconvert_exporter": "python",
   "pygments_lexer": "ipython3",
   "version": "3.12.3"
  }
 },
 "nbformat": 4,
 "nbformat_minor": 2
}
